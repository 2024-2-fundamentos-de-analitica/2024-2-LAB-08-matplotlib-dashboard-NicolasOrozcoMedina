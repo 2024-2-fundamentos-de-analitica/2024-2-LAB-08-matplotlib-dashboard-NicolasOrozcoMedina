{
 "cells": [
  {
   "cell_type": "code",
   "execution_count": 1,
   "metadata": {},
   "outputs": [
    {
     "name": "stdout",
     "output_type": "stream",
     "text": [
      "Writing index.html\n"
     ]
    }
   ],
   "source": [
    "%%writefile index.html\n",
    "    \n",
    "    <!DOCTYPE html>\n",
    "    <html>\n",
    "       <body>\n",
    "         <hl>Shipping Dashboard Example</hl>\n",
    "         <div style='width:45;float:left'>\n",
    "           <img scr='docs/shipping_per_warehouse.png' alt='Fig 1'>\n",
    "           <img scr='docs/mode_of_shipment.png' alt='Fig 2'>\n",
    "         </div>\n",
    "         <div style= 'width:45%;float:left'>\n",
    "           <img scr='docs/average_customer_rating.png' alt='Fig 3'>\n",
    "           <img scr='docs/weight_of_distribution.png' alt='Fig 4'>\n",
    "         </div>\n",
    "       <body>\n",
    "    <html>"
   ]
  }
 ],
 "metadata": {
  "kernelspec": {
   "display_name": ".venv",
   "language": "python",
   "name": "python3"
  },
  "language_info": {
   "codemirror_mode": {
    "name": "ipython",
    "version": 3
   },
   "file_extension": ".py",
   "mimetype": "text/x-python",
   "name": "python",
   "nbconvert_exporter": "python",
   "pygments_lexer": "ipython3",
   "version": "3.11.9"
  }
 },
 "nbformat": 4,
 "nbformat_minor": 2
}
